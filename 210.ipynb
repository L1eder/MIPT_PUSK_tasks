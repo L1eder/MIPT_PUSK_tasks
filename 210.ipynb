{
 "cells": [
  {
   "cell_type": "code",
   "execution_count": 80,
   "id": "3ecc6fe2-3088-4bad-95aa-9f62d04314fa",
   "metadata": {},
   "outputs": [
    {
     "name": "stdout",
     "output_type": "stream",
     "text": [
      "     User ID        Device Model Operating System  App Usage Time (min/day)  \\\n",
      "0          1      Google Pixel 5          Android                       393   \n",
      "1          2           OnePlus 9          Android                       268   \n",
      "2          3        Xiaomi Mi 11          Android                       154   \n",
      "3          4      Google Pixel 5          Android                       239   \n",
      "4          5           iPhone 12              iOS                       187   \n",
      "..       ...                 ...              ...                       ...   \n",
      "695      696           iPhone 12              iOS                        92   \n",
      "696      697        Xiaomi Mi 11          Android                       316   \n",
      "697      698      Google Pixel 5          Android                        99   \n",
      "698      699  Samsung Galaxy S21          Android                        62   \n",
      "699      700           OnePlus 9          Android                       212   \n",
      "\n",
      "     Screen On Time (hours/day)  Battery Drain (mAh/day)  \\\n",
      "0                           6.4                     1872   \n",
      "1                           4.7                     1331   \n",
      "2                           4.0                      761   \n",
      "3                           4.8                     1676   \n",
      "4                           4.3                     1367   \n",
      "..                          ...                      ...   \n",
      "695                         3.9                     1082   \n",
      "696                         6.8                     1965   \n",
      "697                         3.1                      942   \n",
      "698                         1.7                      431   \n",
      "699                         5.4                     1306   \n",
      "\n",
      "     Number of Apps Installed  Data Usage (MB/day)  Age  Gender  \\\n",
      "0                          67                 1122   40    Male   \n",
      "1                          42                  944   47  Female   \n",
      "2                          32                  322   42    Male   \n",
      "3                          56                  871   20    Male   \n",
      "4                          58                  988   31  Female   \n",
      "..                        ...                  ...  ...     ...   \n",
      "695                        26                  381   22    Male   \n",
      "696                        68                 1201   59    Male   \n",
      "697                        22                  457   50  Female   \n",
      "698                        13                  224   44    Male   \n",
      "699                        49                  828   23  Female   \n",
      "\n",
      "     User Behavior Class  \n",
      "0                      4  \n",
      "1                      3  \n",
      "2                      2  \n",
      "3                      3  \n",
      "4                      3  \n",
      "..                   ...  \n",
      "695                    2  \n",
      "696                    4  \n",
      "697                    2  \n",
      "698                    1  \n",
      "699                    3  \n",
      "\n",
      "[700 rows x 11 columns]\n"
     ]
    }
   ],
   "source": [
    "import pandas as pd\n",
    "import numpy as np\n",
    "\n",
    "table = pd.read_csv('user_behavior_dataset.csv')\n",
    "print(table)"
   ]
  },
  {
   "cell_type": "code",
   "execution_count": 81,
   "id": "6ea7ac8b-b874-41fa-9e03-09eb8f1d83c5",
   "metadata": {},
   "outputs": [
    {
     "name": "stdout",
     "output_type": "stream",
     "text": [
      "<class 'pandas.core.frame.DataFrame'>\n",
      "RangeIndex: 700 entries, 0 to 699\n",
      "Data columns (total 11 columns):\n",
      " #   Column                      Non-Null Count  Dtype  \n",
      "---  ------                      --------------  -----  \n",
      " 0   User ID                     700 non-null    int64  \n",
      " 1   Device Model                700 non-null    object \n",
      " 2   Operating System            700 non-null    object \n",
      " 3   App Usage Time (min/day)    700 non-null    int64  \n",
      " 4   Screen On Time (hours/day)  700 non-null    float64\n",
      " 5   Battery Drain (mAh/day)     700 non-null    int64  \n",
      " 6   Number of Apps Installed    700 non-null    int64  \n",
      " 7   Data Usage (MB/day)         700 non-null    int64  \n",
      " 8   Age                         700 non-null    int64  \n",
      " 9   Gender                      700 non-null    object \n",
      " 10  User Behavior Class         700 non-null    int64  \n",
      "dtypes: float64(1), int64(7), object(3)\n",
      "memory usage: 60.3+ KB\n",
      "None\n"
     ]
    }
   ],
   "source": [
    "print(table.info())"
   ]
  },
  {
   "cell_type": "code",
   "execution_count": 82,
   "id": "94bef8de-2ba2-4274-9ba5-973f3f4a9952",
   "metadata": {},
   "outputs": [
    {
     "name": "stdout",
     "output_type": "stream",
     "text": [
      "User ID                       0\n",
      "Device Model                  0\n",
      "Operating System              0\n",
      "App Usage Time (min/day)      0\n",
      "Screen On Time (hours/day)    0\n",
      "Battery Drain (mAh/day)       0\n",
      "Number of Apps Installed      0\n",
      "Data Usage (MB/day)           0\n",
      "Age                           0\n",
      "Gender                        0\n",
      "User Behavior Class           0\n",
      "dtype: int64\n"
     ]
    }
   ],
   "source": [
    "print(table.isnull().sum())"
   ]
  },
  {
   "cell_type": "code",
   "execution_count": 83,
   "id": "a3ce141c-2527-4c4f-b2e1-50e0365a4bc4",
   "metadata": {},
   "outputs": [
    {
     "name": "stdout",
     "output_type": "stream",
     "text": [
      "None\n"
     ]
    }
   ],
   "source": [
    "print(table.fillna({\"Age\": 100}, inplace = True)) #Пропусков нет"
   ]
  },
  {
   "cell_type": "code",
   "execution_count": 84,
   "id": "ad4f79c8-e2c2-4cb6-be7f-3f7211504570",
   "metadata": {},
   "outputs": [
    {
     "name": "stdout",
     "output_type": "stream",
     "text": [
      "2\n",
      "(700, 11)\n",
      "7700\n",
      "Index(['User ID', 'Device Model', 'Operating System',\n",
      "       'App Usage Time (min/day)', 'Screen On Time (hours/day)',\n",
      "       'Battery Drain (mAh/day)', 'Number of Apps Installed',\n",
      "       'Data Usage (MB/day)', 'Age', 'Gender', 'User Behavior Class'],\n",
      "      dtype='object')\n",
      "[RangeIndex(start=0, stop=700, step=1), Index(['User ID', 'Device Model', 'Operating System',\n",
      "       'App Usage Time (min/day)', 'Screen On Time (hours/day)',\n",
      "       'Battery Drain (mAh/day)', 'Number of Apps Installed',\n",
      "       'Data Usage (MB/day)', 'Age', 'Gender', 'User Behavior Class'],\n",
      "      dtype='object')]\n",
      "User ID                         int64\n",
      "Device Model                   object\n",
      "Operating System               object\n",
      "App Usage Time (min/day)        int64\n",
      "Screen On Time (hours/day)    float64\n",
      "Battery Drain (mAh/day)         int64\n",
      "Number of Apps Installed        int64\n",
      "Data Usage (MB/day)             int64\n",
      "Age                             int64\n",
      "Gender                         object\n",
      "User Behavior Class             int64\n",
      "dtype: object\n"
     ]
    }
   ],
   "source": [
    "print(table.ndim) \n",
    "print(table.shape)\n",
    "print(table.size)\n",
    "print(table.columns)\n",
    "print(table.axes)\n",
    "print(table.dtypes) "
   ]
  },
  {
   "cell_type": "code",
   "execution_count": 85,
   "id": "07eee731-001d-4fe2-9145-78aed7f81c2f",
   "metadata": {},
   "outputs": [
    {
     "name": "stdout",
     "output_type": "stream",
     "text": [
      "20\n"
     ]
    }
   ],
   "source": [
    "print(table['Age'][3])"
   ]
  },
  {
   "cell_type": "code",
   "execution_count": 86,
   "id": "586285b6-b94a-47d6-a1fc-48e2eea7cdb4",
   "metadata": {},
   "outputs": [
    {
     "name": "stdout",
     "output_type": "stream",
     "text": [
      "0    Google Pixel 5\n",
      "1         OnePlus 9\n",
      "2      Xiaomi Mi 11\n",
      "Name: Device Model, dtype: object\n"
     ]
    }
   ],
   "source": [
    "print(table['Device Model'][0:3])"
   ]
  },
  {
   "cell_type": "code",
   "execution_count": 87,
   "id": "b8355343-3269-4e07-952b-1163cc230c19",
   "metadata": {},
   "outputs": [
    {
     "name": "stdout",
     "output_type": "stream",
     "text": [
      "         User ID  App Usage Time (min/day)  Screen On Time (hours/day)  \\\n",
      "count  700.00000                700.000000                  700.000000   \n",
      "mean   350.50000                271.128571                    5.272714   \n",
      "std    202.21688                177.199484                    3.068584   \n",
      "min      1.00000                 30.000000                    1.000000   \n",
      "25%    175.75000                113.250000                    2.500000   \n",
      "50%    350.50000                227.500000                    4.900000   \n",
      "75%    525.25000                434.250000                    7.400000   \n",
      "max    700.00000                598.000000                   12.000000   \n",
      "\n",
      "       Battery Drain (mAh/day)  Number of Apps Installed  Data Usage (MB/day)  \\\n",
      "count               700.000000                700.000000           700.000000   \n",
      "mean               1525.158571                 50.681429           929.742857   \n",
      "std                 819.136414                 26.943324           640.451729   \n",
      "min                 302.000000                 10.000000           102.000000   \n",
      "25%                 722.250000                 26.000000           373.000000   \n",
      "50%                1502.500000                 49.000000           823.500000   \n",
      "75%                2229.500000                 74.000000          1341.000000   \n",
      "max                2993.000000                 99.000000          2497.000000   \n",
      "\n",
      "              Age  User Behavior Class  \n",
      "count  700.000000           700.000000  \n",
      "mean    38.482857             2.990000  \n",
      "std     12.012916             1.401476  \n",
      "min     18.000000             1.000000  \n",
      "25%     28.000000             2.000000  \n",
      "50%     38.000000             3.000000  \n",
      "75%     49.000000             4.000000  \n",
      "max     59.000000             5.000000  \n"
     ]
    }
   ],
   "source": [
    "print(table.describe()) "
   ]
  },
  {
   "cell_type": "code",
   "execution_count": 88,
   "id": "484c3a69-2bb2-4a2f-9734-e815e5fd3785",
   "metadata": {},
   "outputs": [
    {
     "name": "stdout",
     "output_type": "stream",
     "text": [
      "   Gender  Age    Device Model\n",
      "0    Male   40  Google Pixel 5\n",
      "1  Female   47       OnePlus 9\n",
      "2    Male   42    Xiaomi Mi 11\n",
      "3    Male   20  Google Pixel 5\n",
      "4  Female   31       iPhone 12\n",
      "5    Male   31  Google Pixel 5\n"
     ]
    }
   ],
   "source": [
    "print(table.loc[0:5,['Gender', 'Age', 'Device Model']])"
   ]
  },
  {
   "cell_type": "code",
   "execution_count": 89,
   "id": "cd94a37c-5146-4973-8187-1726f7b798b7",
   "metadata": {},
   "outputs": [
    {
     "name": "stdout",
     "output_type": "stream",
     "text": [
      "    User ID  Device Model Operating System  App Usage Time (min/day)  \\\n",
      "12       13     OnePlus 9          Android                       462   \n",
      "28       29     OnePlus 9          Android                       452   \n",
      "40       41  Xiaomi Mi 11          Android                       240   \n",
      "44       45  Xiaomi Mi 11          Android                       138   \n",
      "50       51  Xiaomi Mi 11          Android                       452   \n",
      "\n",
      "    Screen On Time (hours/day)  Battery Drain (mAh/day)  \\\n",
      "12                         6.2                     2303   \n",
      "28                         6.8                     2387   \n",
      "40                         4.7                     1464   \n",
      "44                         2.4                      837   \n",
      "50                         7.4                     2180   \n",
      "\n",
      "    Number of Apps Installed  Data Usage (MB/day)  Age  Gender  \\\n",
      "12                        65                 1099   57  Female   \n",
      "28                        77                 1456   55  Female   \n",
      "40                        52                  708   56  Female   \n",
      "44                        21                  572   56  Female   \n",
      "50                        61                 1417   54  Female   \n",
      "\n",
      "    User Behavior Class  \n",
      "12                    4  \n",
      "28                    4  \n",
      "40                    3  \n",
      "44                    2  \n",
      "50                    4  \n"
     ]
    }
   ],
   "source": [
    "print(table.loc[(table.Age > 50) & (table.Gender == 'Female')].head())"
   ]
  },
  {
   "cell_type": "code",
   "execution_count": 90,
   "id": "7933be81-f574-4863-9114-2504b4f0485c",
   "metadata": {},
   "outputs": [
    {
     "name": "stdout",
     "output_type": "stream",
     "text": [
      "User ID\n",
      "1      393\n",
      "2      268\n",
      "3      154\n",
      "4      239\n",
      "5      187\n",
      "      ... \n",
      "696     92\n",
      "697    316\n",
      "698     99\n",
      "699     62\n",
      "700    212\n",
      "Name: App Usage Time (min/day), Length: 700, dtype: int64\n"
     ]
    }
   ],
   "source": [
    "print(table.groupby('User ID')['App Usage Time (min/day)'].sum())"
   ]
  },
  {
   "cell_type": "code",
   "execution_count": 115,
   "id": "75b0c177-6a2b-4c49-8119-4c5d065c42b0",
   "metadata": {},
   "outputs": [
    {
     "name": "stdout",
     "output_type": "stream",
     "text": [
      "Gender                               Female   Male\n",
      "Device Model       Operating System               \n",
      "Google Pixel 5     Android            24276  25180\n",
      "OnePlus 9          Android            21212  25742\n",
      "Samsung Galaxy S21 Android            18846  29721\n",
      "Xiaomi Mi 11       Android            25257  23635\n",
      "iPhone 12          iOS                26816  24665\n"
     ]
    }
   ],
   "source": [
    "print(pd.pivot_table(table, values = 'User ID', index = ['Device Model', 'Operating System'], columns = 'Gender', aggfunc = 'sum'))"
   ]
  }
 ],
 "metadata": {
  "kernelspec": {
   "display_name": "Python 3 (ipykernel)",
   "language": "python",
   "name": "python3"
  },
  "language_info": {
   "codemirror_mode": {
    "name": "ipython",
    "version": 3
   },
   "file_extension": ".py",
   "mimetype": "text/x-python",
   "name": "python",
   "nbconvert_exporter": "python",
   "pygments_lexer": "ipython3",
   "version": "3.12.1"
  }
 },
 "nbformat": 4,
 "nbformat_minor": 5
}

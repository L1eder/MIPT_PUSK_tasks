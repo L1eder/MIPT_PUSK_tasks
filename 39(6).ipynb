{
 "cells": [
  {
   "cell_type": "code",
   "execution_count": 85,
   "id": "776b6345-d34f-4421-b42d-b23d725c8078",
   "metadata": {},
   "outputs": [
    {
     "name": "stdout",
     "output_type": "stream",
     "text": [
      "     Age  Gender  Weight (kg)  Height (m)  Max_BPM  Avg_BPM  Resting_BPM  \\\n",
      "0     56    Male         88.3        1.71      180      157           60   \n",
      "1     46  Female         74.9        1.53      179      151           66   \n",
      "2     32  Female         68.1        1.66      167      122           54   \n",
      "3     25    Male         53.2        1.70      190      164           56   \n",
      "4     38    Male         46.1        1.79      188      158           68   \n",
      "..   ...     ...          ...         ...      ...      ...          ...   \n",
      "968   24    Male         87.1        1.74      187      158           67   \n",
      "969   25    Male         66.6        1.61      184      166           56   \n",
      "970   59  Female         60.4        1.76      194      120           53   \n",
      "971   32    Male        126.4        1.83      198      146           62   \n",
      "972   46    Male         88.7        1.63      166      146           66   \n",
      "\n",
      "     Session_Duration (hours)  Calories_Burned Workout_Type  Fat_Percentage  \\\n",
      "0                        1.69           1313.0         Yoga            12.6   \n",
      "1                        1.30            883.0         HIIT            33.9   \n",
      "2                        1.11            677.0       Cardio            33.4   \n",
      "3                        0.59            532.0     Strength            28.8   \n",
      "4                        0.64            556.0     Strength            29.2   \n",
      "..                        ...              ...          ...             ...   \n",
      "968                      1.57           1364.0     Strength            10.0   \n",
      "969                      1.38           1260.0     Strength            25.0   \n",
      "970                      1.72            929.0       Cardio            18.8   \n",
      "971                      1.10            883.0         HIIT            28.2   \n",
      "972                      0.75            542.0     Strength            28.8   \n",
      "\n",
      "     Water_Intake (liters)  Workout_Frequency (days/week)  Experience_Level  \\\n",
      "0                      3.5                              4                 3   \n",
      "1                      2.1                              4                 2   \n",
      "2                      2.3                              4                 2   \n",
      "3                      2.1                              3                 1   \n",
      "4                      2.8                              3                 1   \n",
      "..                     ...                            ...               ...   \n",
      "968                    3.5                              4                 3   \n",
      "969                    3.0                              2                 1   \n",
      "970                    2.7                              5                 3   \n",
      "971                    2.1                              3                 2   \n",
      "972                    3.5                              2                 1   \n",
      "\n",
      "       BMI  \n",
      "0    30.20  \n",
      "1    32.00  \n",
      "2    24.71  \n",
      "3    18.41  \n",
      "4    14.39  \n",
      "..     ...  \n",
      "968  28.77  \n",
      "969  25.69  \n",
      "970  19.50  \n",
      "971  37.74  \n",
      "972  33.38  \n",
      "\n",
      "[973 rows x 15 columns]\n"
     ]
    }
   ],
   "source": [
    "import pandas as pd\n",
    "import numpy as np\n",
    "\n",
    "table = pd.read_csv('gym_members_exercise_tracking.csv')\n",
    "print(table)"
   ]
  },
  {
   "cell_type": "code",
   "execution_count": 86,
   "id": "f1319510-27b7-44e2-b0c1-9addbf32c9ca",
   "metadata": {},
   "outputs": [
    {
     "name": "stdout",
     "output_type": "stream",
     "text": [
      "<class 'pandas.core.frame.DataFrame'>\n",
      "RangeIndex: 973 entries, 0 to 972\n",
      "Data columns (total 15 columns):\n",
      " #   Column                         Non-Null Count  Dtype  \n",
      "---  ------                         --------------  -----  \n",
      " 0   Age                            973 non-null    int64  \n",
      " 1   Gender                         973 non-null    object \n",
      " 2   Weight (kg)                    973 non-null    float64\n",
      " 3   Height (m)                     973 non-null    float64\n",
      " 4   Max_BPM                        973 non-null    int64  \n",
      " 5   Avg_BPM                        973 non-null    int64  \n",
      " 6   Resting_BPM                    973 non-null    int64  \n",
      " 7   Session_Duration (hours)       973 non-null    float64\n",
      " 8   Calories_Burned                973 non-null    float64\n",
      " 9   Workout_Type                   973 non-null    object \n",
      " 10  Fat_Percentage                 973 non-null    float64\n",
      " 11  Water_Intake (liters)          973 non-null    float64\n",
      " 12  Workout_Frequency (days/week)  973 non-null    int64  \n",
      " 13  Experience_Level               973 non-null    int64  \n",
      " 14  BMI                            973 non-null    float64\n",
      "dtypes: float64(7), int64(6), object(2)\n",
      "memory usage: 114.2+ KB\n",
      "None\n"
     ]
    }
   ],
   "source": [
    "print(table.info())"
   ]
  },
  {
   "cell_type": "code",
   "execution_count": 87,
   "id": "8143bf4e-7dd6-4045-9205-9ef53fb9b198",
   "metadata": {},
   "outputs": [
    {
     "name": "stdout",
     "output_type": "stream",
     "text": [
      "2\n",
      "(973, 15)\n",
      "14595\n",
      "Index(['Age', 'Gender', 'Weight (kg)', 'Height (m)', 'Max_BPM', 'Avg_BPM',\n",
      "       'Resting_BPM', 'Session_Duration (hours)', 'Calories_Burned',\n",
      "       'Workout_Type', 'Fat_Percentage', 'Water_Intake (liters)',\n",
      "       'Workout_Frequency (days/week)', 'Experience_Level', 'BMI'],\n",
      "      dtype='object')\n",
      "[RangeIndex(start=0, stop=973, step=1), Index(['Age', 'Gender', 'Weight (kg)', 'Height (m)', 'Max_BPM', 'Avg_BPM',\n",
      "       'Resting_BPM', 'Session_Duration (hours)', 'Calories_Burned',\n",
      "       'Workout_Type', 'Fat_Percentage', 'Water_Intake (liters)',\n",
      "       'Workout_Frequency (days/week)', 'Experience_Level', 'BMI'],\n",
      "      dtype='object')]\n",
      "Age                                int64\n",
      "Gender                            object\n",
      "Weight (kg)                      float64\n",
      "Height (m)                       float64\n",
      "Max_BPM                            int64\n",
      "Avg_BPM                            int64\n",
      "Resting_BPM                        int64\n",
      "Session_Duration (hours)         float64\n",
      "Calories_Burned                  float64\n",
      "Workout_Type                      object\n",
      "Fat_Percentage                   float64\n",
      "Water_Intake (liters)            float64\n",
      "Workout_Frequency (days/week)      int64\n",
      "Experience_Level                   int64\n",
      "BMI                              float64\n",
      "dtype: object\n"
     ]
    }
   ],
   "source": [
    "print(table.ndim) \n",
    "print(table.shape)\n",
    "print(table.size)\n",
    "print(table.columns)\n",
    "print(table.axes)\n",
    "print(table.dtypes) "
   ]
  },
  {
   "cell_type": "code",
   "execution_count": 88,
   "id": "acc8708d-5801-4dd9-ab93-a23b8015c963",
   "metadata": {},
   "outputs": [
    {
     "name": "stdout",
     "output_type": "stream",
     "text": [
      "    Height (m)  Max_BPM  Avg_BPM\n",
      "0         1.71      180      157\n",
      "1         1.53      179      151\n",
      "2         1.66      167      122\n",
      "3         1.70      190      164\n",
      "4         1.79      188      158\n",
      "5         1.68      168      156\n",
      "6         1.72      174      169\n",
      "7         1.51      189      141\n",
      "8         1.94      185      127\n",
      "9         1.84      169      136\n",
      "10        1.67      188      146\n"
     ]
    }
   ],
   "source": [
    "print(table.loc[0:10,['Height (m)', 'Max_BPM', 'Avg_BPM']])"
   ]
  },
  {
   "cell_type": "code",
   "execution_count": 89,
   "id": "bbd49ed3-173c-4a9a-84d6-9dce1dfaa5c9",
   "metadata": {},
   "outputs": [
    {
     "name": "stdout",
     "output_type": "stream",
     "text": [
      "   Gender  Height (m)\n",
      "0    Male        1.71\n",
      "1  Female        1.53\n",
      "2  Female        1.66\n",
      "3    Male        1.70\n",
      "4    Male        1.79\n"
     ]
    }
   ],
   "source": [
    "print(table.filter(items=['Gender','Height (m)']).head())"
   ]
  },
  {
   "cell_type": "code",
   "execution_count": 90,
   "id": "e54e1207-1e18-4f3e-987a-cf62e716582c",
   "metadata": {},
   "outputs": [
    {
     "name": "stdout",
     "output_type": "stream",
     "text": [
      "Gender\n",
      "Female    462\n",
      "Male      511\n",
      "Name: Age, dtype: int64\n"
     ]
    }
   ],
   "source": [
    "print(table.groupby('Gender')['Age'].count())"
   ]
  },
  {
   "cell_type": "code",
   "execution_count": 91,
   "id": "1e1f24d9-b22b-43b6-bf3d-d8fb4bdc1534",
   "metadata": {},
   "outputs": [
    {
     "name": "stdout",
     "output_type": "stream",
     "text": [
      "Gender        Female  Male\n",
      "Workout_Type              \n",
      "Cardio           126   129\n",
      "HIIT             107   114\n",
      "Strength         123   135\n",
      "Yoga             106   133\n"
     ]
    }
   ],
   "source": [
    "print(pd.pivot_table(table, values = 'Age', index = ['Workout_Type'], columns = 'Gender' , aggfunc = 'count'))"
   ]
  },
  {
   "cell_type": "code",
   "execution_count": 92,
   "id": "94481c43-ab22-4d51-9b79-dc2a8fbc0aa1",
   "metadata": {},
   "outputs": [
    {
     "name": "stdout",
     "output_type": "stream",
     "text": [
      "Gender      Female    Male\n",
      "count     4.000000    4.00\n",
      "mean    115.500000  127.75\n",
      "std      10.472185    9.50\n",
      "min     106.000000  114.00\n",
      "25%     106.750000  125.25\n",
      "50%     115.000000  131.00\n",
      "75%     123.750000  133.50\n",
      "max     126.000000  135.00\n"
     ]
    }
   ],
   "source": [
    "print(pd.pivot_table(table, values = 'Age', index = ['Workout_Type'], columns = 'Gender' , aggfunc = 'count').describe())"
   ]
  },
  {
   "cell_type": "code",
   "execution_count": 93,
   "id": "e436f002-ba59-49cc-bbde-62d0ce3fd98f",
   "metadata": {},
   "outputs": [
    {
     "name": "stdout",
     "output_type": "stream",
     "text": [
      "     Age  Gender  Weight (kg)  Height (m)  Max_BPM  Avg_BPM  Resting_BPM  \\\n",
      "194   49  Female         40.0        1.65      188      148           74   \n",
      "705   47  Female         40.0        1.76      173      132           63   \n",
      "764   22  Female         40.3        1.56      192      121           57   \n",
      "238   24  Female         40.4        1.64      168      168           55   \n",
      "156   56  Female         40.4        1.80      196      165           72   \n",
      "..   ...     ...          ...         ...      ...      ...          ...   \n",
      "283   20    Male        128.4        1.92      167      145           57   \n",
      "96    56    Male        129.0        1.78      194      126           64   \n",
      "854   48    Male        129.2        1.61      193      167           62   \n",
      "122   56    Male        129.5        1.95      160      129           66   \n",
      "593   55    Male        129.9        1.73      187      155           60   \n",
      "\n",
      "     Session_Duration (hours)  Calories_Burned Workout_Type  Fat_Percentage  \\\n",
      "194                      1.03            686.0         Yoga            34.3   \n",
      "705                      0.80            475.0     Strength            26.7   \n",
      "764                      1.45            877.0         HIIT            30.8   \n",
      "238                      0.99            832.0         HIIT            31.0   \n",
      "156                      1.23            913.0       Cardio            30.0   \n",
      "..                        ...              ...          ...             ...   \n",
      "283                      0.63            502.0       Cardio            26.1   \n",
      "96                       1.29            805.0         Yoga            27.1   \n",
      "854                      1.06            876.0         Yoga            21.4   \n",
      "122                      1.00            639.0     Strength            25.2   \n",
      "593                      0.69            529.0         Yoga            21.7   \n",
      "\n",
      "     Water_Intake (liters)  Workout_Frequency (days/week)  Experience_Level  \\\n",
      "194                    2.5                              3                 2   \n",
      "705                    2.2                              3                 1   \n",
      "764                    2.1                              4                 2   \n",
      "238                    1.9                              2                 1   \n",
      "156                    2.1                              4                 2   \n",
      "..                     ...                            ...               ...   \n",
      "283                    2.0                              2                 1   \n",
      "96                     2.7                              2                 1   \n",
      "854                    2.9                              4                 2   \n",
      "122                    3.5                              2                 1   \n",
      "593                    3.1                              3                 1   \n",
      "\n",
      "       BMI  \n",
      "194  14.69  \n",
      "705  12.91  \n",
      "764  16.56  \n",
      "238  15.02  \n",
      "156  12.47  \n",
      "..     ...  \n",
      "283  34.83  \n",
      "96   40.71  \n",
      "854  49.84  \n",
      "122  34.06  \n",
      "593  43.40  \n",
      "\n",
      "[973 rows x 15 columns]\n"
     ]
    }
   ],
   "source": [
    "print(table.sort_values('Weight (kg)'))"
   ]
  },
  {
   "cell_type": "code",
   "execution_count": 94,
   "id": "1e86554b-acd5-45be-8e59-e8d25e7aac3a",
   "metadata": {},
   "outputs": [
    {
     "name": "stdout",
     "output_type": "stream",
     "text": [
      "   Age (years)  Gender  Weight (kg)  Height (m)  Max_BPM  Avg_BPM  \\\n",
      "0           56    Male         88.3        1.71      180      157   \n",
      "1           46  Female         74.9        1.53      179      151   \n",
      "2           32  Female         68.1        1.66      167      122   \n",
      "3           25    Male         53.2        1.70      190      164   \n",
      "4           38    Male         46.1        1.79      188      158   \n",
      "\n",
      "   Resting_BPM  Session_Duration (hours)  Calories_Burned Workout_Type (name)  \\\n",
      "0           60                      1.69           1313.0                Yoga   \n",
      "1           66                      1.30            883.0                HIIT   \n",
      "2           54                      1.11            677.0              Cardio   \n",
      "3           56                      0.59            532.0            Strength   \n",
      "4           68                      0.64            556.0            Strength   \n",
      "\n",
      "   Fat_Percentage  Water_Intake (liters)  Workout_Frequency (days/week)  \\\n",
      "0            12.6                    3.5                              4   \n",
      "1            33.9                    2.1                              4   \n",
      "2            33.4                    2.3                              4   \n",
      "3            28.8                    2.1                              3   \n",
      "4            29.2                    2.8                              3   \n",
      "\n",
      "   Experience_Level    BMI  \n",
      "0                 3  30.20  \n",
      "1                 2  32.00  \n",
      "2                 2  24.71  \n",
      "3                 1  18.41  \n",
      "4                 1  14.39  \n"
     ]
    }
   ],
   "source": [
    "table.rename(columns={'Age': 'Age (years)', 'Workout_Type': 'Workout_Type (name)'}, inplace = True)\n",
    "print(table.head())"
   ]
  },
  {
   "cell_type": "code",
   "execution_count": 95,
   "id": "41fc88c5-00b1-4ad8-b2fe-fe54a3234d52",
   "metadata": {},
   "outputs": [
    {
     "name": "stdout",
     "output_type": "stream",
     "text": [
      "Age (years)                      0\n",
      "Gender                           0\n",
      "Weight (kg)                      0\n",
      "Height (m)                       0\n",
      "Max_BPM                          0\n",
      "Avg_BPM                          0\n",
      "Resting_BPM                      0\n",
      "Session_Duration (hours)         0\n",
      "Calories_Burned                  0\n",
      "Workout_Type (name)              0\n",
      "Fat_Percentage                   0\n",
      "Water_Intake (liters)            0\n",
      "Workout_Frequency (days/week)    0\n",
      "Experience_Level                 0\n",
      "BMI                              0\n",
      "dtype: int64\n",
      "None\n"
     ]
    }
   ],
   "source": [
    "print(table.isnull().sum())\n",
    "print(table.fillna({\"Age\": 100}, inplace = True))"
   ]
  },
  {
   "cell_type": "code",
   "execution_count": 101,
   "id": "8e0fc6c0-7b51-4491-8841-3f905304e076",
   "metadata": {},
   "outputs": [
    {
     "name": "stdout",
     "output_type": "stream",
     "text": [
      "0      False\n",
      "1      False\n",
      "2      False\n",
      "3      False\n",
      "4      False\n",
      "       ...  \n",
      "968    False\n",
      "969    False\n",
      "970    False\n",
      "971    False\n",
      "972    False\n",
      "Length: 973, dtype: bool\n"
     ]
    }
   ],
   "source": [
    "print(table.duplicated())"
   ]
  },
  {
   "cell_type": "code",
   "execution_count": 102,
   "id": "02622515-5769-4a7a-8737-71048de8ec19",
   "metadata": {},
   "outputs": [],
   "source": [
    "def height(human):\n",
    "    if human > 1.8:\n",
    "        return 'high'\n",
    "    else: return 'short'"
   ]
  },
  {
   "cell_type": "code",
   "execution_count": 103,
   "id": "51002fde-400d-4ed6-9f5a-390c2dfa67fa",
   "metadata": {},
   "outputs": [
    {
     "name": "stdout",
     "output_type": "stream",
     "text": [
      "   Age (years)  Gender  Weight (kg)  Height (m)  Max_BPM  Avg_BPM  \\\n",
      "0           56    Male         88.3        1.71      180      157   \n",
      "1           46  Female         74.9        1.53      179      151   \n",
      "2           32  Female         68.1        1.66      167      122   \n",
      "3           25    Male         53.2        1.70      190      164   \n",
      "4           38    Male         46.1        1.79      188      158   \n",
      "\n",
      "   Resting_BPM  Session_Duration (hours)  Calories_Burned Workout_Type (name)  \\\n",
      "0           60                      1.69           1313.0                Yoga   \n",
      "1           66                      1.30            883.0                HIIT   \n",
      "2           54                      1.11            677.0              Cardio   \n",
      "3           56                      0.59            532.0            Strength   \n",
      "4           68                      0.64            556.0            Strength   \n",
      "\n",
      "   Fat_Percentage  Water_Intake (liters)  Workout_Frequency (days/week)  \\\n",
      "0            12.6                    3.5                              4   \n",
      "1            33.9                    2.1                              4   \n",
      "2            33.4                    2.3                              4   \n",
      "3            28.8                    2.1                              3   \n",
      "4            29.2                    2.8                              3   \n",
      "\n",
      "   Experience_Level    BMI Height (grade)  \n",
      "0                 3  30.20          short  \n",
      "1                 2  32.00          short  \n",
      "2                 2  24.71          short  \n",
      "3                 1  18.41          short  \n",
      "4                 1  14.39          short  \n"
     ]
    }
   ],
   "source": [
    "table['Height (grade)'] = table['Height (m)'].apply(height)\n",
    "print(table.head())"
   ]
  },
  {
   "cell_type": "code",
   "execution_count": 104,
   "id": "d6a2477c-e582-41d0-bb9e-f6efab4b28f4",
   "metadata": {},
   "outputs": [
    {
     "name": "stdout",
     "output_type": "stream",
     "text": [
      "     Age (years) Gender  Weight (kg)  Height (m)  Max_BPM  Avg_BPM  \\\n",
      "952           55   Male         69.9        1.81      179      167   \n",
      "14            20   Male        117.7        1.81      196      161   \n",
      "737           34   Male        115.3        1.81      181      167   \n",
      "38            21   Male         62.6        1.81      164      150   \n",
      "528           29   Male        106.5        1.81      177      156   \n",
      "..           ...    ...          ...         ...      ...      ...   \n",
      "595           49   Male         88.6        2.00      162      127   \n",
      "613           40   Male         63.0        2.00      176      161   \n",
      "678           54   Male        116.4        2.00      184      123   \n",
      "908           26   Male         51.9        2.00      173      133   \n",
      "542           46   Male         84.3        2.00      189      162   \n",
      "\n",
      "     Resting_BPM  Session_Duration (hours)  Calories_Burned  \\\n",
      "952           57                      1.20            992.0   \n",
      "14            54                      1.35           1195.0   \n",
      "737           67                      1.36           1249.0   \n",
      "38            62                      1.30           1072.0   \n",
      "528           60                      1.29           1107.0   \n",
      "..           ...                       ...              ...   \n",
      "595           56                      1.83           1150.0   \n",
      "613           71                      1.42           1257.0   \n",
      "678           65                      1.13            688.0   \n",
      "908           54                      0.75            549.0   \n",
      "542           66                      1.83           1467.0   \n",
      "\n",
      "    Workout_Type (name)  Fat_Percentage  Water_Intake (liters)  \\\n",
      "952            Strength            20.2                    2.1   \n",
      "14                 Yoga            26.4                    3.3   \n",
      "737                Yoga            24.5                    2.2   \n",
      "38             Strength            27.6                    3.5   \n",
      "528              Cardio            25.7                    2.5   \n",
      "..                  ...             ...                    ...   \n",
      "595              Cardio            14.9                    3.5   \n",
      "613            Strength            26.8                    2.9   \n",
      "678                Yoga            26.2                    3.1   \n",
      "908                HIIT            26.6                    2.3   \n",
      "542                HIIT            13.3                    3.5   \n",
      "\n",
      "     Workout_Frequency (days/week)  Experience_Level    BMI Height (grade)  \n",
      "952                              4                 2  21.34           high  \n",
      "14                               3                 2  35.93           high  \n",
      "737                              2                 1  35.19           high  \n",
      "38                               4                 2  19.11           high  \n",
      "528                              4                 2  32.51           high  \n",
      "..                             ...               ...    ...            ...  \n",
      "595                              4                 3  22.15           high  \n",
      "613                              4                 2  15.75           high  \n",
      "678                              3                 1  29.10           high  \n",
      "908                              2                 1  12.97           high  \n",
      "542                              5                 3  21.07           high  \n",
      "\n",
      "[235 rows x 16 columns]\n"
     ]
    }
   ],
   "source": [
    "print(table[(table['Height (m)'] > 1.80)].sort_values('Height (m)'))"
   ]
  },
  {
   "cell_type": "code",
   "execution_count": 105,
   "id": "4124fc4b-62af-40ae-97ab-f0e4e86afe30",
   "metadata": {},
   "outputs": [
    {
     "name": "stdout",
     "output_type": "stream",
     "text": [
      "     Age (years)  Gender  Weight (kg)  Height (m)  Max_BPM  Avg_BPM  \\\n",
      "548           34  Female         68.4         1.5      192      132   \n",
      "864           28  Female         56.0         1.5      193      128   \n",
      "550           24  Female         59.4         1.5      199      132   \n",
      "500           54  Female         46.6         1.5      175      165   \n",
      "450           37  Female         69.5         1.5      196      130   \n",
      "..           ...     ...          ...         ...      ...      ...   \n",
      "921           29  Female         75.6         1.8      175      149   \n",
      "156           56  Female         40.4         1.8      196      165   \n",
      "148           23    Male         83.1         1.8      185      162   \n",
      "716           51  Female         63.9         1.8      191      130   \n",
      "26            44    Male         65.2         1.8      192      139   \n",
      "\n",
      "     Resting_BPM  Session_Duration (hours)  Calories_Burned  \\\n",
      "548           61                      1.37            904.0   \n",
      "864           56                      1.94           1242.0   \n",
      "550           60                      1.25            825.0   \n",
      "500           58                      1.38           1025.0   \n",
      "450           66                      0.69            448.0   \n",
      "..           ...                       ...              ...   \n",
      "921           57                      1.31            976.0   \n",
      "156           72                      1.23            913.0   \n",
      "148           56                      0.70            624.0   \n",
      "716           72                      1.07            626.0   \n",
      "26            68                      0.73            502.0   \n",
      "\n",
      "    Workout_Type (name)  Fat_Percentage  Water_Intake (liters)  \\\n",
      "548              Cardio            33.7                    2.1   \n",
      "864            Strength            16.7                    2.7   \n",
      "550                Yoga            25.0                    2.0   \n",
      "500            Strength            30.6                    2.0   \n",
      "450              Cardio            32.8                    2.4   \n",
      "..                  ...             ...                    ...   \n",
      "921                Yoga            25.7                    1.9   \n",
      "156              Cardio            30.0                    2.1   \n",
      "148            Strength            29.3                    3.1   \n",
      "716                HIIT            33.7                    2.7   \n",
      "26                 HIIT            27.2                    2.7   \n",
      "\n",
      "     Workout_Frequency (days/week)  Experience_Level    BMI Height (grade)  \n",
      "548                              4                 2  30.40          short  \n",
      "864                              5                 3  24.89          short  \n",
      "550                              3                 2  26.40          short  \n",
      "500                              2                 1  20.71          short  \n",
      "450                              2                 1  30.89          short  \n",
      "..                             ...               ...    ...            ...  \n",
      "921                              4                 2  23.33          short  \n",
      "156                              4                 2  12.47          short  \n",
      "148                              3                 1  25.65          short  \n",
      "716                              4                 2  19.72          short  \n",
      "26                               2                 1  20.12          short  \n",
      "\n",
      "[738 rows x 16 columns]\n"
     ]
    }
   ],
   "source": [
    "print(table[(table['Height (grade)'] == 'short')].sort_values('Height (m)'))"
   ]
  }
 ],
 "metadata": {
  "kernelspec": {
   "display_name": "Python 3 (ipykernel)",
   "language": "python",
   "name": "python3"
  },
  "language_info": {
   "codemirror_mode": {
    "name": "ipython",
    "version": 3
   },
   "file_extension": ".py",
   "mimetype": "text/x-python",
   "name": "python",
   "nbconvert_exporter": "python",
   "pygments_lexer": "ipython3",
   "version": "3.12.1"
  }
 },
 "nbformat": 4,
 "nbformat_minor": 5
}

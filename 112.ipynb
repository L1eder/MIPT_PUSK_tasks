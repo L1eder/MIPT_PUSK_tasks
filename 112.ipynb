{
 "cells": [
  {
   "cell_type": "code",
   "execution_count": 41,
   "id": "bee8baf7-9fc2-4682-b23a-caac972cf8bf",
   "metadata": {},
   "outputs": [
    {
     "name": "stdout",
     "output_type": "stream",
     "text": [
      "[[100   1   2   3]\n",
      " [  4   5   6   7]\n",
      " [  8   9  10  11]\n",
      " [ 12  13  14  15]\n",
      " [ 16  17  18  19]]\n"
     ]
    }
   ],
   "source": [
    "import numpy as np\n",
    "\n",
    "arr = np.arange(0,20,1)\n",
    "arr = np.reshape(arr, (5,4))\n",
    "arr[0,0] = 100\n",
    "print(arr)"
   ]
  },
  {
   "cell_type": "code",
   "execution_count": 42,
   "id": "0d02c8f0-0570-4af4-8eb2-fe2f2005aa00",
   "metadata": {},
   "outputs": [
    {
     "name": "stdout",
     "output_type": "stream",
     "text": [
      "2\n",
      "(5, 4)\n",
      "20\n",
      "int32\n"
     ]
    }
   ],
   "source": [
    "print(arr.ndim)\n",
    "print(arr.shape)\n",
    "print(arr.size)\n",
    "print(arr.dtype)"
   ]
  },
  {
   "cell_type": "code",
   "execution_count": 43,
   "id": "9faee991-4089-4791-af3c-fd9f63c15c7a",
   "metadata": {},
   "outputs": [
    {
     "name": "stdout",
     "output_type": "stream",
     "text": [
      "100\n",
      "10\n",
      "19\n",
      "[ 2  6 10 14 18]\n",
      "[ 8  9 10 11]\n",
      "[[100   1   2]\n",
      " [  4   5   6]]\n",
      "[[100   1   2]\n",
      " [  4   5   6]\n",
      " [  8   9  10]\n",
      " [ 12  13  14]\n",
      " [ 16  17  18]]\n"
     ]
    }
   ],
   "source": [
    "print(arr[0,0])\n",
    "print(arr[2,2])\n",
    "print(arr[4,3])\n",
    "print(arr[:,2])\n",
    "print(arr[2,:])\n",
    "print(arr[:2,:3])\n",
    "print(arr[:,:3])"
   ]
  },
  {
   "cell_type": "code",
   "execution_count": 44,
   "id": "933de688-5262-4eb8-87e7-e71563f21378",
   "metadata": {},
   "outputs": [
    {
     "name": "stdout",
     "output_type": "stream",
     "text": [
      "290\n",
      "14.5\n",
      "10.5\n"
     ]
    }
   ],
   "source": [
    "sum_arr = np.sum(arr)\n",
    "print(sum_arr)\n",
    "medium = np.mean(arr)\n",
    "print(medium)\n",
    "median = np.median(arr)\n",
    "print(median)"
   ]
  },
  {
   "cell_type": "code",
   "execution_count": 57,
   "id": "1b4ee30f-4c81-4870-b88b-03b65c700d57",
   "metadata": {},
   "outputs": [
    {
     "name": "stdout",
     "output_type": "stream",
     "text": [
      "20.328551350256124\n",
      "1\n",
      "100\n",
      "[1 0 0 0]\n",
      "[0 3 3 3 3]\n",
      "[100 101 103 106 110 115 121 128 136 145 155 166 178 191 205 220 236 253\n",
      " 271 290]\n",
      "[        100         100         200         600        2400       12000\n",
      "       72000      504000     4032000    36288000   362880000  -303287296\n",
      "   655519744   -68177920  -954490880 -1432461312 -1444544512  1212547072\n",
      "   351010816 -1920729088]\n"
     ]
    }
   ],
   "source": [
    "stand = np.std(arr)\n",
    "print(stand)\n",
    "mini = np.min(arr)\n",
    "print(mini)\n",
    "maxi = np.max(arr)\n",
    "print(maxi)\n",
    "argMin = np.argmin(arr, 0)\n",
    "print(argMin)\n",
    "argMax = np.argmax(arr, 1)\n",
    "print(argMax)\n",
    "print(np.cumsum(arr))\n",
    "print(np.cumprod(arr))"
   ]
  }
 ],
 "metadata": {
  "kernelspec": {
   "display_name": "Python 3 (ipykernel)",
   "language": "python",
   "name": "python3"
  },
  "language_info": {
   "codemirror_mode": {
    "name": "ipython",
    "version": 3
   },
   "file_extension": ".py",
   "mimetype": "text/x-python",
   "name": "python",
   "nbconvert_exporter": "python",
   "pygments_lexer": "ipython3",
   "version": "3.12.1"
  }
 },
 "nbformat": 4,
 "nbformat_minor": 5
}
